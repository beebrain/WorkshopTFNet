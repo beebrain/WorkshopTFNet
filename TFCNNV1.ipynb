{
 "cells": [
  {
   "cell_type": "code",
   "execution_count": 1,
   "metadata": {},
   "outputs": [
    {
     "name": "stderr",
     "output_type": "stream",
     "text": [
      "c:\\anaconda3\\envs\\py36tf\\lib\\site-packages\\h5py\\__init__.py:36: FutureWarning: Conversion of the second argument of issubdtype from `float` to `np.floating` is deprecated. In future, it will be treated as `np.float64 == np.dtype(float).type`.\n",
      "  from ._conv import register_converters as _register_converters\n"
     ]
    }
   ],
   "source": [
    "import tensorflow as tf\n",
    "import numpy as np\n",
    "import matplotlib.pyplot as plt\n",
    "from tensorflow.examples.tutorials.mnist import input_data"
   ]
  },
  {
   "cell_type": "code",
   "execution_count": 2,
   "metadata": {},
   "outputs": [
    {
     "name": "stdout",
     "output_type": "stream",
     "text": [
      "WARNING:tensorflow:From <ipython-input-2-7422ea296814>:2: read_data_sets (from tensorflow.contrib.learn.python.learn.datasets.mnist) is deprecated and will be removed in a future version.\n",
      "Instructions for updating:\n",
      "Please use alternatives such as official/mnist/dataset.py from tensorflow/models.\n",
      "WARNING:tensorflow:From c:\\anaconda3\\envs\\py36tf\\lib\\site-packages\\tensorflow\\contrib\\learn\\python\\learn\\datasets\\mnist.py:260: maybe_download (from tensorflow.contrib.learn.python.learn.datasets.base) is deprecated and will be removed in a future version.\n",
      "Instructions for updating:\n",
      "Please write your own downloading logic.\n",
      "WARNING:tensorflow:From c:\\anaconda3\\envs\\py36tf\\lib\\site-packages\\tensorflow\\contrib\\learn\\python\\learn\\datasets\\mnist.py:262: extract_images (from tensorflow.contrib.learn.python.learn.datasets.mnist) is deprecated and will be removed in a future version.\n",
      "Instructions for updating:\n",
      "Please use tf.data to implement this functionality.\n",
      "Extracting MNIST-data\\train-images-idx3-ubyte.gz\n",
      "WARNING:tensorflow:From c:\\anaconda3\\envs\\py36tf\\lib\\site-packages\\tensorflow\\contrib\\learn\\python\\learn\\datasets\\mnist.py:267: extract_labels (from tensorflow.contrib.learn.python.learn.datasets.mnist) is deprecated and will be removed in a future version.\n",
      "Instructions for updating:\n",
      "Please use tf.data to implement this functionality.\n",
      "Extracting MNIST-data\\train-labels-idx1-ubyte.gz\n",
      "WARNING:tensorflow:From c:\\anaconda3\\envs\\py36tf\\lib\\site-packages\\tensorflow\\contrib\\learn\\python\\learn\\datasets\\mnist.py:110: dense_to_one_hot (from tensorflow.contrib.learn.python.learn.datasets.mnist) is deprecated and will be removed in a future version.\n",
      "Instructions for updating:\n",
      "Please use tf.one_hot on tensors.\n",
      "Extracting MNIST-data\\t10k-images-idx3-ubyte.gz\n",
      "Extracting MNIST-data\\t10k-labels-idx1-ubyte.gz\n",
      "WARNING:tensorflow:From c:\\anaconda3\\envs\\py36tf\\lib\\site-packages\\tensorflow\\contrib\\learn\\python\\learn\\datasets\\mnist.py:290: DataSet.__init__ (from tensorflow.contrib.learn.python.learn.datasets.mnist) is deprecated and will be removed in a future version.\n",
      "Instructions for updating:\n",
      "Please use alternatives such as official/mnist/dataset.py from tensorflow/models.\n"
     ]
    }
   ],
   "source": [
    "# Load example Data \n",
    "mnist = input_data.read_data_sets('MNIST-data', one_hot=True,reshape=False)"
   ]
  },
  {
   "cell_type": "code",
   "execution_count": 3,
   "metadata": {},
   "outputs": [],
   "source": [
    "#define  inital Weight and Bias function\n",
    "def weightVariable(shapeW):\n",
    "    init = tf.truncated_normal(shape=shapeW,stddev=0.1)\n",
    "    return tf.Variable(initial_value=init)\n",
    "\n",
    "def biasVariable(shapeB):\n",
    "    init = tf.constant(0.5,shape=shapeB)\n",
    "    return tf.Variable(initial_value=init)"
   ]
  },
  {
   "cell_type": "code",
   "execution_count": 4,
   "metadata": {},
   "outputs": [],
   "source": [
    "#define convolution Function \n",
    "def con2D(inputX,weightF,strite_num = 1):\n",
    "    # tf.nn.conv2d( input, filter, strides, padding, use_cudnn_on_gpu=True,\n",
    "    #               data_format='NHWC', dilations=[1, 1, 1, 1], name=None)\n",
    "    # NHWC mean => [batch, height, width, channels]\n",
    "    # stride [1, x_movement, y_movement, 1]\n",
    "    # Must have strides[0] = strides[3] = 1\n",
    "    return tf.nn.conv2d(input=inputX,filter=weightF,\n",
    "                        strides=[1,strite_num,strite_num,1],padding=\"SAME\")"
   ]
  },
  {
   "cell_type": "code",
   "execution_count": 5,
   "metadata": {},
   "outputs": [],
   "source": [
    "#define Maxpool Function\n",
    "def maxPool(inputX,size=2,strite_num = 2):\n",
    "    # tf.nn.max_pool(value,ksize,strides,padding,data_format='NHWC',name=None)\n",
    "    return tf.nn.max_pool(value=inputX,ksize=[1,size,size,1],\n",
    "                          strides=[1,strite_num,strite_num,1],padding=\"SAME\")"
   ]
  },
  {
   "cell_type": "markdown",
   "metadata": {},
   "source": [
    "# Create Neural Network"
   ]
  },
  {
   "cell_type": "code",
   "execution_count": 6,
   "metadata": {},
   "outputs": [],
   "source": [
    "#create placeholder xs and ys , xs is an image input and ys is a label of class\n",
    "#[optional]reshape for make sure the input is 28*28\n",
    "tf.reset_default_graph()   # clear all graph\n",
    "\n",
    "xs = tf.placeholder(shape=[None,28,28,1],dtype=tf.float32,name=\"inputX\")\n",
    "ys = tf.placeholder(shape=[None,10],dtype=tf.float32,name=\"labelY\")\n",
    "xImage = tf.reshape(xs,[-1,28,28,1])"
   ]
  },
  {
   "cell_type": "code",
   "execution_count": 7,
   "metadata": {},
   "outputs": [],
   "source": [
    "#conv1\n",
    "numFilter_1 = 32\n",
    "filter_con1 = weightVariable([5,5,1,numFilter_1]) # patch 5x5, in size 1, out size 32\n",
    "bias_con1 = biasVariable([numFilter_1])\n",
    "feature_con1 = tf.nn.bias_add(con2D(inputX=xImage,weightF=filter_con1,strite_num=1),bias_con1)\n",
    "feature_con1 = tf.nn.relu(feature_con1)   #relu Activation"
   ]
  },
  {
   "cell_type": "code",
   "execution_count": 8,
   "metadata": {},
   "outputs": [],
   "source": [
    "#Maxpool1\n",
    "pool1 = maxPool(feature_con1)"
   ]
  },
  {
   "cell_type": "code",
   "execution_count": 9,
   "metadata": {},
   "outputs": [],
   "source": [
    "#conv2\n",
    "numFilter_2 = 64\n",
    "filter_con2 = weightVariable([5,5,numFilter_1,numFilter_2])\n",
    "bias_con2 = biasVariable([numFilter_2])\n",
    "feature_con2 = tf.nn.bias_add(con2D(inputX=pool1,weightF=filter_con2,strite_num=1),bias_con2)\n",
    "feature_con2 = tf.nn.relu(feature_con2) #relu Activation"
   ]
  },
  {
   "cell_type": "code",
   "execution_count": 10,
   "metadata": {},
   "outputs": [],
   "source": [
    "#Maxpool2\n",
    "pool2 = maxPool(inputX=feature_con2)"
   ]
  },
  {
   "cell_type": "code",
   "execution_count": 11,
   "metadata": {},
   "outputs": [
    {
     "name": "stdout",
     "output_type": "stream",
     "text": [
      "ToTal Element = 3136\n"
     ]
    }
   ],
   "source": [
    "#FullyConnected    #3136->512->512->10\n",
    "layer_shape = pool2.get_shape()\n",
    "TotalElement = layer_shape[1:4].num_elements()\n",
    "print(\"ToTal Element = {:d}\".format(TotalElement))"
   ]
  },
  {
   "cell_type": "code",
   "execution_count": 12,
   "metadata": {},
   "outputs": [],
   "source": [
    "FFconnect = tf.reshape(pool2,[-1,TotalElement])\n",
    "wF1 = weightVariable(shapeW=[TotalElement,512])\n",
    "bF1 = biasVariable(shapeB=[512])\n",
    "FF_feature_1 = tf.matmul(FFconnect,wF1)+bF1\n",
    "FF_feature_1 = tf.nn.relu(FF_feature_1)"
   ]
  },
  {
   "cell_type": "code",
   "execution_count": 13,
   "metadata": {},
   "outputs": [],
   "source": [
    "wF2 = weightVariable(shapeW=[512,10])\n",
    "bF2 = biasVariable(shapeB=[10])\n",
    "FF_feature_2 = tf.matmul(FF_feature_1,wF2)+bF2\n",
    "\n",
    "prediction_out = tf.nn.softmax(FF_feature_2,name=\"Y_pre\")"
   ]
  },
  {
   "cell_type": "markdown",
   "metadata": {},
   "source": [
    "define cross entropy\n",
    "$$H_{y'}(y) = - \\sum_{i}  y'_i \\times log(y_i)$$"
   ]
  },
  {
   "cell_type": "code",
   "execution_count": 14,
   "metadata": {},
   "outputs": [],
   "source": [
    "cost =tf.reduce_mean(-tf.reduce_sum(ys*tf.log(prediction_out),reduction_indices=1),name=\"cost\")\n",
    "optimizer = tf.train.AdamOptimizer(learning_rate=1e-4).minimize(cost)   "
   ]
  },
  {
   "cell_type": "code",
   "execution_count": 15,
   "metadata": {},
   "outputs": [],
   "source": [
    "#create accuracy tensor\n",
    "y_predic_cls = tf.argmax(prediction_out,axis=1)\n",
    "y_true_cls = tf.argmax(ys, axis=1)\n",
    "correct_prediction = tf.equal(y_predic_cls, y_true_cls)\n",
    "accuracy = tf.reduce_mean(tf.cast(correct_prediction, tf.float32),name=\"ACC\")"
   ]
  },
  {
   "cell_type": "code",
   "execution_count": 16,
   "metadata": {},
   "outputs": [],
   "source": [
    "# save Information\n",
    "tf.summary.scalar('cross_entropy', cost)\n",
    "tf.summary.scalar('accuracy', accuracy)\n",
    "summary_op = tf.summary.merge_all()\n",
    "\n",
    "# Add ops to save and restore all the variables.\n",
    "saver = tf.train.Saver()\n"
   ]
  },
  {
   "cell_type": "code",
   "execution_count": 27,
   "metadata": {},
   "outputs": [
    {
     "name": "stdout",
     "output_type": "stream",
     "text": [
      "Step : 0 Batch : acc = 0.1000 loss = 5.3227 | Test acc = 0.0773 loss = 5.9389\n",
      "Model saved improve from: 0.000000  to 0.077300\n",
      "Step : 100 Batch : acc = 0.7700 loss = 0.7537 | Test acc = 0.7623 loss = 0.7787\n",
      "Model saved improve from: 0.077300  to 0.762300\n",
      "Step : 200 Batch : acc = 0.8300 loss = 0.5530 | Test acc = 0.8557 loss = 0.4759\n",
      "Model saved improve from: 0.762300  to 0.855700\n"
     ]
    }
   ],
   "source": [
    "\n",
    "sess = tf.Session()\n",
    "initValue = tf.global_variables_initializer()\n",
    "sess.run(initValue)\n",
    "train_summary_file = tf.summary.FileWriter(\"Log/train\",graph=sess.graph)\n",
    "test_summary_file  = tf.summary.FileWriter(\"Log/test\",graph=sess.graph)\n",
    "#training section\n",
    "\n",
    "acc_val = 0\n",
    "for i in range(300):\n",
    "    batch_xs, batch_ys = mnist.train.next_batch(100)  #get data from mnist \n",
    "    _,summary_out  = sess.run([optimizer,summary_op], feed_dict={xs: batch_xs, ys: batch_ys})  #feed data to tensorflow  we have 2 branch optimizer and summary_op\n",
    "    train_summary_file.add_summary(summary_out,i)  #save train_summary\n",
    "    if i % 100 == 0:\n",
    "        # success ?\n",
    "        ta, tc = sess.run([accuracy, cost], feed_dict={xs: batch_xs, ys: batch_ys})    #feed train data to tensor fro accuracy and cost\n",
    "        test_data = {xs: mnist.test.images, ys: mnist.test.labels}                             # get new data mnist for test\n",
    "        va, vc, summary_test = sess.run([accuracy, cost, summary_op], feed_dict=test_data)                   #feed test data to tensor for acc and cost\n",
    "        print(\"Step : %d Batch : acc = %.4f loss = %.4f | Test acc = %.4f loss = %.4f\" % (i, ta, tc, va, vc))   #print imformation\n",
    "        test_summary_file.add_summary(summary_test,i)\n",
    "        if va > acc_val:\n",
    "\n",
    "            # Save the variables to disk.\n",
    "            save_path = saver.save(sess, \"./tmp/bestACC\")\n",
    "            print(\"Model saved improve from: {:f}  to {:f}\".format(acc_val,va))\n",
    "            acc_val  = va\n"
   ]
  },
  {
   "cell_type": "markdown",
   "metadata": {},
   "source": [
    "# Restore Graph and weight"
   ]
  },
  {
   "cell_type": "code",
   "execution_count": 29,
   "metadata": {},
   "outputs": [
    {
     "name": "stdout",
     "output_type": "stream",
     "text": [
      "INFO:tensorflow:Restoring parameters from ./tmp/bestACC\n",
      "Step : %d Batch : Test acc = 0.9097\n"
     ]
    }
   ],
   "source": [
    "# delete the current graph\n",
    "tf.reset_default_graph()\n",
    "\n",
    "# import the graph from the file\n",
    "imported_graph = tf.train.import_meta_graph('./tmp/bestACC.meta')\n",
    "# list all the tensors in the graph\n",
    "with tf.Session() as sess:\n",
    "    initValue = tf.global_variables_initializer()\n",
    "    sess.run(initValue)\n",
    "    imported_graph.restore(sess, './tmp/bestACC')\n",
    "    test_data = {\"inputX:0\":mnist.test.images,\"labelY:0\":mnist.test.labels}\n",
    "    a = sess.run([\"ACC:0\"],feed_dict=test_data)\n",
    "    print(\"Step : %d Batch : Test acc = {:2.4f}\".format(a[0]))   #print information"
   ]
  },
  {
   "cell_type": "code",
   "execution_count": 32,
   "metadata": {},
   "outputs": [
    {
     "name": "stdout",
     "output_type": "stream",
     "text": [
      "INFO:tensorflow:Restoring parameters from ./tmp/bestACC\n"
     ]
    },
    {
     "data": {
      "image/png": "[encoded data removed]",
      "text/plain": [
       "<Figure size 432x288 with 1 Axes>"
      ]
     },
     "metadata": {},
     "output_type": "display_data"
    },
    {
     "name": "stdout",
     "output_type": "stream",
     "text": [
      "[array([[0., 0., 0., 0., 0., 0., 0., 1., 0., 0.]], dtype=float32)]\n",
      "[7]\n"
     ]
    }
   ],
   "source": [
    "with tf.Session() as sess:\n",
    "    imported_graph.restore(sess, './tmp/bestACC')\n",
    "    image = mnist.test.images[0]*255\n",
    "    image = np.reshape(image,[28,28])\n",
    "    plt.imshow(image)\n",
    "    plt.show()\n",
    "    \n",
    "    \n",
    "    image = np.reshape(image,[-1,28,28,1])\n",
    "    a = sess.run([\"Y_pre:0\"],feed_dict= {\"inputX:0\":image})\n",
    "    print(a)\n",
    "    print(np.argmax(a[0],axis=1))\n"
   ]
  },
  {
   "cell_type": "code",
   "execution_count": null,
   "metadata": {},
   "outputs": [],
   "source": []
  }
 ],
 "metadata": {
  "kernelspec": {
   "display_name": "Python 3",
   "language": "python",
   "name": "python3"
  },
  "language_info": {
   "codemirror_mode": {
    "name": "ipython",
    "version": 3
   },
   "file_extension": ".py",
   "mimetype": "text/x-python",
   "name": "python",
   "nbconvert_exporter": "python",
   "pygments_lexer": "ipython3",
   "version": "3.6.1"
  }
 },
 "nbformat": 4,
 "nbformat_minor": 2
}
