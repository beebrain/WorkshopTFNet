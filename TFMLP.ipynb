{
 "cells": [
  {
   "cell_type": "code",
   "execution_count": null,
   "metadata": {},
   "outputs": [],
   "source": [
    "import tensorflow as tf\n",
    "import numpy as np\n",
    "from tensorflow.examples.tutorials.mnist import input_data\n",
    "mnist = input_data.read_data_sets('MNIST-data', one_hot=True, reshape=True)"
   ]
  },
  {
   "cell_type": "code",
   "execution_count": null,
   "metadata": {},
   "outputs": [],
   "source": [
    "tf.__version__"
   ]
  },
  {
   "cell_type": "code",
   "execution_count": null,
   "metadata": {},
   "outputs": [],
   "source": [
    "#initial weight and bias\n",
    "#WARNNING!!! Don't initial zero value into weight and bias\n",
    "tf.reset_default_graph()   # clear all graph\n",
    "\n",
    "W1 = tf.Variable(name=\"W1\",initial_value=tf.truncated_normal(shape=[784,10],stddev=0.1),dtype=tf.float32)\n",
    "b1 = tf.Variable(name=\"b1\",initial_value=tf.constant(0.5,shape=[10]),dtype=tf.float32)\n",
    "\n"
   ]
  },
  {
   "cell_type": "code",
   "execution_count": null,
   "metadata": {},
   "outputs": [],
   "source": [
    "#mnist Data is a digit image that have dimension is 28*28 pixels.\n",
    "#create a model\n",
    "\n",
    "Xdata = tf.placeholder(shape=[None,784],dtype=tf.float32)\n",
    "Ydata = tf.placeholder(shape=[None,10],dtype=tf.float32)\n",
    "\n",
    "#Hidden Layer\n",
    "Layer1 = tf.matmul(Xdata,W1)+b1\n",
    "#output layer\n",
    "yout = tf.nn.softmax(Layer1,name=\"yout\")\n"
   ]
  },
  {
   "cell_type": "code",
   "execution_count": null,
   "metadata": {},
   "outputs": [],
   "source": [
    "# defined objective function and Optimizer \n",
    "cross_en = -tf.reduce_sum(tf.log(yout)*Ydata,reduction_indices=1)\n",
    "cross_en = tf.reduce_mean(cross_en,name=\"cost_tensor\")\n",
    "optimizer = tf.train.GradientDescentOptimizer(learning_rate=1e-4).minimize(cross_en)"
   ]
  },
  {
   "cell_type": "code",
   "execution_count": null,
   "metadata": {},
   "outputs": [],
   "source": [
    "#create evaluate tensor \n",
    "y_predict = tf.argmax(yout,axis=1)\n",
    "y_true = tf.argmax(Ydata,axis=1)\n",
    "correnctPredict = tf.equal(y_predict,y_true)\n",
    "Acc = tf.reduce_mean(tf.cast(correnctPredict,dtype=tf.float32),name=\"acc_tensor\")"
   ]
  },
  {
   "cell_type": "markdown",
   "metadata": {},
   "source": [
    "<img src=\"./imageFile/Tensor3.jpg\">"
   ]
  },
  {
   "cell_type": "code",
   "execution_count": null,
   "metadata": {},
   "outputs": [],
   "source": [
    "sess =  tf.Session()\n",
    "\n",
    "# tensorboard write log\n",
    "tf_train_board = tf.summary.FileWriter(logdir=\"./TFMLP/Train\",graph=sess.graph)\n",
    "tf_test_board = tf.summary.FileWriter(logdir=\"./TFMLP/Test\",graph=sess.graph)\n",
    "\n",
    "tf.summary.scalar(\"costValue\",cross_en)\n",
    "tf.summary.scalar(\"AccValue\",Acc)\n",
    "summary_op = tf.summary.merge_all()\n",
    "\n",
    "#initial weight\n",
    "init = tf.initializers.global_variables()\n",
    "sess.run(init)"
   ]
  },
  {
   "cell_type": "code",
   "execution_count": null,
   "metadata": {},
   "outputs": [],
   "source": [
    "for i in range(60000): #100 epoach\n",
    "    batchX,batchY = mnist.train.next_batch(100)\n",
    "    summaryValue,_ = sess.run([summary_op,optimizer],feed_dict={Xdata:batchX,Ydata:batchY})\n",
    "    tf_train_board.add_summary(summaryValue,global_step=i)\n",
    "    if i%1000 == 0:\n",
    "        (xTest, yTest) = (mnist.test.images,mnist.test.labels)\n",
    "        vAC,vCro,summaryValue = sess.run([Acc,cross_en,summary_op],feed_dict={Xdata:xTest,Ydata:yTest})\n",
    "        print(\"Loop {:d} Accuracy= {:f} Lost= {:f}\".format(i,vAC,vCro))"
   ]
  },
  {
   "cell_type": "code",
   "execution_count": null,
   "metadata": {},
   "outputs": [],
   "source": []
  },
  {
   "cell_type": "code",
   "execution_count": null,
   "metadata": {},
   "outputs": [],
   "source": []
  }
 ],
 "metadata": {
  "kernelspec": {
   "display_name": "Python 3",
   "language": "python",
   "name": "python3"
  },
  "language_info": {
   "codemirror_mode": {
    "name": "ipython",
    "version": 3
   },
   "file_extension": ".py",
   "mimetype": "text/x-python",
   "name": "python",
   "nbconvert_exporter": "python",
   "pygments_lexer": "ipython3",
   "version": "3.6.1"
  }
 },
 "nbformat": 4,
 "nbformat_minor": 2
}
