{
 "cells": [
  {
   "cell_type": "code",
   "execution_count": null,
   "metadata": {
    "collapsed": true
   },
   "outputs": [],
   "source": [
    "import tensorflow as tf\n",
    "import numpy as np\n",
    "\n",
    "#defind weight\n",
    "tf.reset_default_graph()\n",
    "tf.set_random_seed(0)\n",
    "xin = tf.placeholder(tf.float32,shape=[None,10])\n",
    "w = tf.get_variable(name= \"Weight1\",initializer=tf.truncated_normal([10,3],stddev=0.5))\n",
    "bias = tf.get_variable(name=\"bias1\",initializer=tf.constant(0.5,shape=[3]))\n",
    "y_out = tf.matmul(xin,w)+bias\n",
    "yout = tf.nn.softmax(y_out)\n",
    "\n",
    "\n"
   ]
  },
  {
   "cell_type": "markdown",
   "metadata": {},
   "source": []
  },
  {
   "cell_type": "code",
   "execution_count": null,
   "metadata": {},
   "outputs": [],
   "source": [
    "with tf.Session() as sess:\n",
    "    init = tf.global_variables_initializer()\n",
    "    sess.run(init)\n",
    "    xdata = np.array([1,2,3,4,5,6,7,8,9,10])\n",
    "    xdata = xdata.reshape(-1,10)\n",
    "    print(sess.run(w))\n",
    "    print(sess.run(bias))\n",
    "    print(sess.run(yout,feed_dict={xin:xdata}))\n",
    "    print(sess.run(y_out,feed_dict={xin:xdata}))"
   ]
  }
 ],
 "metadata": {
  "kernelspec": {
   "display_name": "Python 2",
   "language": "python",
   "name": "python2"
  },
  "language_info": {
   "codemirror_mode": {
    "name": "ipython",
    "version": 2
   },
   "file_extension": ".py",
   "mimetype": "text/x-python",
   "name": "python",
   "nbconvert_exporter": "python",
   "pygments_lexer": "ipython2",
   "version": "2.7.6"
  }
 },
 "nbformat": 4,
 "nbformat_minor": 0
}
