{
 "cells": [
  {
   "cell_type": "code",
   "execution_count": 1,
   "metadata": {},
   "outputs": [
    {
     "name": "stderr",
     "output_type": "stream",
     "text": [
      "c:\\anaconda3\\envs\\py36tf\\lib\\site-packages\\h5py\\__init__.py:36: FutureWarning: Conversion of the second argument of issubdtype from `float` to `np.floating` is deprecated. In future, it will be treated as `np.float64 == np.dtype(float).type`.\n",
      "  from ._conv import register_converters as _register_converters\n"
     ]
    },
    {
     "name": "stdout",
     "output_type": "stream",
     "text": [
      "WARNING:tensorflow:From <ipython-input-1-cdfe47a18944>:4: read_data_sets (from tensorflow.contrib.learn.python.learn.datasets.mnist) is deprecated and will be removed in a future version.\n",
      "Instructions for updating:\n",
      "Please use alternatives such as official/mnist/dataset.py from tensorflow/models.\n",
      "WARNING:tensorflow:From c:\\anaconda3\\envs\\py36tf\\lib\\site-packages\\tensorflow\\contrib\\learn\\python\\learn\\datasets\\mnist.py:260: maybe_download (from tensorflow.contrib.learn.python.learn.datasets.base) is deprecated and will be removed in a future version.\n",
      "Instructions for updating:\n",
      "Please write your own downloading logic.\n",
      "WARNING:tensorflow:From c:\\anaconda3\\envs\\py36tf\\lib\\site-packages\\tensorflow\\contrib\\learn\\python\\learn\\datasets\\mnist.py:262: extract_images (from tensorflow.contrib.learn.python.learn.datasets.mnist) is deprecated and will be removed in a future version.\n",
      "Instructions for updating:\n",
      "Please use tf.data to implement this functionality.\n",
      "Extracting MNIST-data\\train-images-idx3-ubyte.gz\n",
      "WARNING:tensorflow:From c:\\anaconda3\\envs\\py36tf\\lib\\site-packages\\tensorflow\\contrib\\learn\\python\\learn\\datasets\\mnist.py:267: extract_labels (from tensorflow.contrib.learn.python.learn.datasets.mnist) is deprecated and will be removed in a future version.\n",
      "Instructions for updating:\n",
      "Please use tf.data to implement this functionality.\n",
      "Extracting MNIST-data\\train-labels-idx1-ubyte.gz\n",
      "WARNING:tensorflow:From c:\\anaconda3\\envs\\py36tf\\lib\\site-packages\\tensorflow\\contrib\\learn\\python\\learn\\datasets\\mnist.py:110: dense_to_one_hot (from tensorflow.contrib.learn.python.learn.datasets.mnist) is deprecated and will be removed in a future version.\n",
      "Instructions for updating:\n",
      "Please use tf.one_hot on tensors.\n",
      "Extracting MNIST-data\\t10k-images-idx3-ubyte.gz\n",
      "Extracting MNIST-data\\t10k-labels-idx1-ubyte.gz\n",
      "WARNING:tensorflow:From c:\\anaconda3\\envs\\py36tf\\lib\\site-packages\\tensorflow\\contrib\\learn\\python\\learn\\datasets\\mnist.py:290: DataSet.__init__ (from tensorflow.contrib.learn.python.learn.datasets.mnist) is deprecated and will be removed in a future version.\n",
      "Instructions for updating:\n",
      "Please use alternatives such as official/mnist/dataset.py from tensorflow/models.\n"
     ]
    }
   ],
   "source": [
    "import tensorflow as tf\n",
    "import numpy as np\n",
    "from tensorflow.examples.tutorials.mnist import input_data\n",
    "mnist = input_data.read_data_sets('MNIST-data', one_hot=True, reshape=True)"
   ]
  },
  {
   "cell_type": "code",
   "execution_count": 10,
   "metadata": {},
   "outputs": [],
   "source": [
    "tf.__version__\n",
    "tf.reset_default_graph()   # clear all graph"
   ]
  },
  {
   "cell_type": "code",
   "execution_count": 11,
   "metadata": {},
   "outputs": [],
   "source": [
    "#initial weight and bias\n",
    "#WARNNING!!! Don't initial zero value into weight and bias\n",
    "W1 = tf.Variable(name=\"W1\",initial_value=tf.truncated_normal(shape=[784,512],stddev=0.1),dtype=tf.float32)\n",
    "b1 = tf.Variable(name=\"b1\",initial_value=tf.constant(0.5,shape=[512]),dtype=tf.float32)\n",
    "\n",
    "W2 = tf.Variable(name=\"W2\",initial_value=tf.truncated_normal(shape=[512,10],stddev=0.1),dtype=tf.float32)\n",
    "b2 = tf.Variable(name=\"b2\",initial_value=tf.constant(0.5,shape=[10]),dtype=tf.float32)\n"
   ]
  },
  {
   "cell_type": "code",
   "execution_count": 12,
   "metadata": {},
   "outputs": [],
   "source": [
    "#mnist Data is a digit image that have dimension is 28*28 pixels.\n",
    "#create a model\n",
    "\n",
    "Xdata = tf.placeholder(shape=[None,784],dtype=tf.float32)/255\n",
    "Ydata = tf.placeholder(shape=[None,10],dtype=tf.float32)\n",
    "\n",
    "#Hidden Layer\n",
    "Layer1 = tf.matmul(Xdata,W1)+b1\n",
    "Layer1 = tf.nn.relu(Layer1)\n",
    "Layer2 = tf.matmul(Layer1,W2)+b2\n",
    "\n",
    "#output layer\n",
    "yout = tf.nn.softmax(Layer2,name=\"yout\")\n"
   ]
  },
  {
   "cell_type": "code",
   "execution_count": 18,
   "metadata": {},
   "outputs": [],
   "source": [
    "# defined objective function and Optimizer \n",
    "cross_en = -tf.reduce_sum(tf.log(yout)*Ydata,reduction_indices=1)\n",
    "cross_en = tf.reduce_mean(cross_en,name=\"cost_tensor\")\n",
    "optimizer = tf.train.GradientDescentOptimizer(learning_rate=1e-4).minimize(cross_en)   #change to AdamOptimizer"
   ]
  },
  {
   "cell_type": "code",
   "execution_count": 19,
   "metadata": {},
   "outputs": [],
   "source": [
    "#create evaluate tensor \n",
    "y_predict = tf.argmax(yout,axis=1)\n",
    "y_true = tf.argmax(Ydata,axis=1)\n",
    "correnctPredict = tf.equal(y_predict,y_true)\n",
    "Acc = tf.reduce_mean(tf.cast(correnctPredict,dtype=tf.float32),name=\"acc_tensor\")"
   ]
  },
  {
   "cell_type": "markdown",
   "metadata": {},
   "source": [
    "<img src=\"./imageFile/Tensor2.jpg\">\n",
    "<img src=\"./imageFile/Tensor1.jpg\">"
   ]
  },
  {
   "cell_type": "code",
   "execution_count": null,
   "metadata": {},
   "outputs": [
    {
     "name": "stdout",
     "output_type": "stream",
     "text": [
      "Accuracy= 0.124300 Lost= 3.041941\n",
      "Accuracy= 0.925100 Lost= 0.265061\n",
      "Accuracy= 0.941500 Lost= 0.206554\n",
      "Accuracy= 0.951600 Lost= 0.172444\n"
     ]
    }
   ],
   "source": [
    "\n",
    "with tf.Session() as sess:\n",
    "    # tensorboard write log\n",
    "    tf_train_board = tf.summary.FileWriter(logdir=\"./TF2MLP/Train\",graph=sess.graph)\n",
    "    tf_test_board = tf.summary.FileWriter(logdir=\"./TF2MLP/Test\",graph=sess.graph)\n",
    "\n",
    "    tf.summary.scalar(\"costValue\",cross_en)\n",
    "    tf.summary.scalar(\"AccValue\",Acc)\n",
    "    summary_op = tf.summary.merge_all()\n",
    "\n",
    "    #initial weight\n",
    "    init = tf.initializers.global_variables()\n",
    "    sess.run(init)\n",
    "\n",
    "    for i in range(60000): #100 epoach\n",
    "        batchX,batchY = mnist.train.next_batch(100)\n",
    "        summaryValue,_ = sess.run([summary_op,optimizer],feed_dict={Xdata:batchX,Ydata:batchY})\n",
    "        tf_train_board.add_summary(summaryValue,global_step=i)\n",
    "        if i%1000 == 0:\n",
    "            (xTest, yTest) = (mnist.test.images,mnist.test.labels)\n",
    "            vAC,vCro,summaryValue = sess.run([Acc,cross_en,summary_op],feed_dict={Xdata:xTest,Ydata:yTest})\n",
    "            print(\"Accuracy= {:f} Lost= {:f}\".format(vAC,vCro))\n",
    "\n"
   ]
  },
  {
   "cell_type": "code",
   "execution_count": null,
   "metadata": {
    "collapsed": true
   },
   "outputs": [],
   "source": []
  },
  {
   "cell_type": "code",
   "execution_count": null,
   "metadata": {
    "collapsed": true
   },
   "outputs": [],
   "source": []
  }
 ],
 "metadata": {
  "kernelspec": {
   "display_name": "Python 3",
   "language": "python",
   "name": "python3"
  },
  "language_info": {
   "codemirror_mode": {
    "name": "ipython",
    "version": 3
   },
   "file_extension": ".py",
   "mimetype": "text/x-python",
   "name": "python",
   "nbconvert_exporter": "python",
   "pygments_lexer": "ipython3",
   "version": "3.6.1"
  }
 },
 "nbformat": 4,
 "nbformat_minor": 2
}
